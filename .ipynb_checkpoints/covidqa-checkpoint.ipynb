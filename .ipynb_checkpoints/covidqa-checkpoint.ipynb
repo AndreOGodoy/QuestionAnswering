{
 "cells": [
  {
   "cell_type": "code",
   "execution_count": 4,
   "metadata": {},
   "outputs": [],
   "source": [
    "import csv\n",
    "from googletrans import Translator\n",
    "translator = Translator()"
   ]
  },
  {
   "cell_type": "code",
   "execution_count": 3,
   "metadata": {},
   "outputs": [],
   "source": [
    "qas = []\n",
    "with open('qa_en.csv') as f:\n",
    "    reader = csv.reader(f, delimiter=';', quotechar='\\\"')\n",
    "    for row in reader:\n",
    "        id_, question, answer = row\n",
    "        qas.append({\n",
    "            'id': id_,\n",
    "            'question': question,\n",
    "            'answer': answer\n",
    "        })"
   ]
  },
  {
   "cell_type": "code",
   "execution_count": 11,
   "metadata": {},
   "outputs": [
    {
     "name": "stdout",
     "output_type": "stream",
     "text": [
      "Progress:  1.0 20188\r"
     ]
    }
   ],
   "source": [
    "for i, row in enumerate(qas):\n",
    "    print('Progress: ', round(i/ len(qas), 2), i, end='\\r')\n",
    "    answer = row['answer']\n",
    "    try:\n",
    "        t = translator.translate(answer, src='en', dest='pt')\n",
    "        qas[i]['answer_pt'] = t.text\n",
    "    except:\n",
    "        print('Error')\n",
    "        break"
   ]
  },
  {
   "cell_type": "code",
   "execution_count": 12,
   "metadata": {},
   "outputs": [],
   "source": [
    "import json\n",
    "\n",
    "json.dump(qas, open('covidqa.json', 'w'), separators=(',', ':'), sort_keys=True, indent=4)"
   ]
  },
  {
   "cell_type": "code",
   "execution_count": 19,
   "metadata": {},
   "outputs": [],
   "source": [
    "with open('covidqa.csv', 'w') as f:\n",
    "    writer = csv.writer(f, delimiter=';', quotechar='\\\"', quoting=csv.QUOTE_MINIMAL)\n",
    "    for qa in qas:\n",
    "        writer.writerow([qa['id'], qa['question'], qa['question_pt'], qa['answer'], qa['answer_pt']])"
   ]
  },
  {
   "cell_type": "markdown",
   "metadata": {},
   "source": [
    "# Recuperação de Informação "
   ]
  },
  {
   "cell_type": "code",
   "execution_count": null,
   "metadata": {},
   "outputs": [],
   "source": []
  }
 ],
 "metadata": {
  "kernelspec": {
   "display_name": "Python 3",
   "language": "python",
   "name": "python3"
  },
  "language_info": {
   "codemirror_mode": {
    "name": "ipython",
    "version": 3
   },
   "file_extension": ".py",
   "mimetype": "text/x-python",
   "name": "python",
   "nbconvert_exporter": "python",
   "pygments_lexer": "ipython3",
   "version": "3.7.7"
  }
 },
 "nbformat": 4,
 "nbformat_minor": 4
}
