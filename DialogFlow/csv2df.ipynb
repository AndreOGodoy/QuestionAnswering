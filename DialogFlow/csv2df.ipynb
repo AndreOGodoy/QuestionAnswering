{
 "cells": [
  {
   "cell_type": "code",
   "execution_count": 1,
   "metadata": {},
   "outputs": [],
   "source": [
    "import csv\n",
    "import json\n",
    "import os"
   ]
  },
  {
   "cell_type": "code",
   "execution_count": 2,
   "metadata": {},
   "outputs": [],
   "source": [
    "new_intents = {}\n",
    "with open('new_qa.csv', newline='') as csvfile:\n",
    "    data = csv.reader(csvfile, delimiter=',', quotechar='\\\"', quoting=csv.QUOTE_MINIMAL)\n",
    "    for row in list(data)[1:]:\n",
    "        intent = row[1]\n",
    "        mseq, vid = row[3], row[4]\n",
    "        response = row[5]\n",
    "        \n",
    "        if intent not in new_intents:\n",
    "            new_intents[intent] = []\n",
    "        new_intents[intent].append({\n",
    "            'mseq': int(mseq),\n",
    "            'vid': int(vid),\n",
    "            'response': response\n",
    "        })"
   ]
  },
  {
   "cell_type": "code",
   "execution_count": 3,
   "metadata": {},
   "outputs": [
    {
     "name": "stdout",
     "output_type": "stream",
     "text": [
      "covid.help.2.transmission.4.\n",
      "get_user_acceptance\n",
      "covid.cough - yes\n",
      "covid.help.2.transmission.2.\n",
      "covid.cough.multiple_group - yes\n",
      "covid.phone_call - yes - custom\n",
      "covid.phone_call\n",
      "get_user_acceptance - yes\n",
      "covid.cough - no\n",
      "covid.help.9.mask.6.previous\n",
      "get_personal_info - age - sex\n",
      "covid.help.2.transmission.1.\n",
      "covid.3daysfever - no\n",
      "covid.after2daysfever - no\n",
      "covid.question.treatment\n",
      "covid.after2daysfever.multiple_group - no\n",
      "covid.help.2.transmission.3.\n",
      "covid.help.9.mask.1.\n",
      "covid.help.9.mask.3.\n",
      "get_personal_info - age - sex - city\n",
      "covid.after2daysfever - yes\n",
      "covid.phone_call - yes\n",
      "get_personal_info - age\n",
      "covid.help.9.mask.5.\n",
      "Default Fallback Intent\n",
      "covid.help.9.mask.2.\n",
      "covid.3daysfever - yes\n",
      "covid.after2daysfever.multiple_group - yes\n",
      "covid.phone_call - no\n",
      "covid.cough.multiple_group - no\n",
      "covid.help.9.mask.4.\n",
      "get_user_acceptance - no\n"
     ]
    }
   ],
   "source": [
    "data = []\n",
    "a, e = 0, 0\n",
    "for fname in os.listdir('TeleCovid-Dev/intents'):\n",
    "    if '_usersays_pt-br' not in fname:\n",
    "        intent = json.load(open(os.path.join('TeleCovid-Dev/intents', fname)))\n",
    "        intent_name = intent['name']\n",
    "\n",
    "        if intent_name in new_intents:\n",
    "            for i, message in enumerate(intent['responses'][0]['messages']):\n",
    "                if 'speech' in message:\n",
    "                    for j, speech in enumerate(message['speech']):\n",
    "                        text = [w for w in new_intents[intent_name] if w['mseq'] == i and w['vid'] == j]\n",
    "                        if len(text) > 0:\n",
    "                            intent['responses'][0]['messages'][i]['speech'][j] = text[0]['response']\n",
    "                            a += 1\n",
    "                        else:\n",
    "                            e += 1\n",
    "            json.dump(intent, open(os.path.join('TeleCovid-Dev/intents', fname), 'w'))\n",
    "\n",
    "        elif intent_name not in new_intents:\n",
    "            print(intent_name)\n",
    "            e += 1"
   ]
  },
  {
   "cell_type": "code",
   "execution_count": 52,
   "metadata": {},
   "outputs": [
    {
     "data": {
      "text/plain": [
       "0.8614718614718615"
      ]
     },
     "execution_count": 52,
     "metadata": {},
     "output_type": "execute_result"
    }
   ],
   "source": [
    "a / (a + e)"
   ]
  },
  {
   "cell_type": "code",
   "execution_count": null,
   "metadata": {},
   "outputs": [],
   "source": []
  }
 ],
 "metadata": {
  "kernelspec": {
   "display_name": "Python 3",
   "language": "python",
   "name": "python3"
  },
  "language_info": {
   "codemirror_mode": {
    "name": "ipython",
    "version": 3
   },
   "file_extension": ".py",
   "mimetype": "text/x-python",
   "name": "python",
   "nbconvert_exporter": "python",
   "pygments_lexer": "ipython3",
   "version": "3.7.7"
  }
 },
 "nbformat": 4,
 "nbformat_minor": 4
}
