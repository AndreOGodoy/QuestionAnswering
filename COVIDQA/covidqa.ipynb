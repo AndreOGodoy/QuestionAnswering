{
 "cells": [
  {
   "cell_type": "code",
   "execution_count": 4,
   "metadata": {},
   "outputs": [],
   "source": [
    "import csv\n",
    "from googletrans import Translator\n",
    "translator = Translator()"
   ]
  },
  {
   "cell_type": "code",
   "execution_count": 3,
   "metadata": {},
   "outputs": [],
   "source": [
    "qas = []\n",
    "with open('qa_en.csv') as f:\n",
    "    reader = csv.reader(f, delimiter=';', quotechar='\\\"')\n",
    "    for row in reader:\n",
    "        id_, question, answer = row\n",
    "        qas.append({\n",
    "            'id': id_,\n",
    "            'question': question,\n",
    "            'answer': answer\n",
    "        })"
   ]
  },
  {
   "cell_type": "code",
   "execution_count": 11,
   "metadata": {},
   "outputs": [
    {
     "name": "stdout",
     "output_type": "stream",
     "text": [
      "Progress:  1.0 20188\r"
     ]
    }
   ],
   "source": [
    "for i, row in enumerate(qas):\n",
    "    print('Progress: ', round(i/ len(qas), 2), i, end='\\r')\n",
    "    answer = row['answer']\n",
    "    try:\n",
    "        t = translator.translate(answer, src='en', dest='pt')\n",
    "        qas[i]['answer_pt'] = t.text\n",
    "    except:\n",
    "        print('Error')\n",
    "        break"
   ]
  },
  {
   "cell_type": "code",
   "execution_count": 12,
   "metadata": {},
   "outputs": [],
   "source": [
    "import json\n",
    "\n",
    "json.dump(qas, open('covidqa.json', 'w'), separators=(',', ':'), sort_keys=True, indent=4)"
   ]
  },
  {
   "cell_type": "code",
   "execution_count": 19,
   "metadata": {},
   "outputs": [],
   "source": [
    "with open('covidqa.csv', 'w') as f:\n",
    "    writer = csv.writer(f, delimiter=';', quotechar='\\\"', quoting=csv.QUOTE_MINIMAL)\n",
    "    for qa in qas:\n",
    "        writer.writerow([qa['id'], qa['question'], qa['question_pt'], qa['answer'], qa['answer_pt']])"
   ]
  },
  {
   "cell_type": "markdown",
   "metadata": {},
   "source": [
    "# Recuperação de Informação "
   ]
  },
  {
   "cell_type": "code",
   "execution_count": 23,
   "metadata": {},
   "outputs": [],
   "source": [
    "from gensim.summarization.bm25 import BM25\n",
    "\n",
    "import nltk\n",
    "import string\n",
    "\n",
    "punctuation = string.punctuation\n",
    "stopwords = nltk.corpus.stopwords.words('portuguese')"
   ]
  },
  {
   "cell_type": "code",
   "execution_count": 26,
   "metadata": {},
   "outputs": [],
   "source": [
    "corpus = []\n",
    "for qa in qas:\n",
    "    question = qa['question_pt']\n",
    "    tokens = [w.lower() for w in nltk.word_tokenize(question) if w.lower() not in stopwords and w.lower() not in punctuation]\n",
    "    corpus.append(tokens)\n",
    "    \n",
    "retrieval = BM25(corpus)"
   ]
  },
  {
   "cell_type": "code",
   "execution_count": 31,
   "metadata": {},
   "outputs": [],
   "source": [
    "dialogflow = []\n",
    "with open('qa.csv') as f:\n",
    "    reader = csv.reader(f, delimiter=';', quotechar='\\\"')\n",
    "    for row in reader:\n",
    "        id_, question, answer, = row\n",
    "        dialogflow.append({\n",
    "            'id': id_,\n",
    "            'question': question,\n",
    "            'answer': answer\n",
    "        })"
   ]
  },
  {
   "cell_type": "code",
   "execution_count": 62,
   "metadata": {},
   "outputs": [],
   "source": [
    "result = []\n",
    "for i, intent in enumerate(dialogflow):\n",
    "    if 'question.' in intent['id']:\n",
    "        q = intent['question']\n",
    "        tokens = [w.lower() for w in nltk.word_tokenize(q) if w.lower() not in stopwords and w.lower() not in punctuation]\n",
    "        scores = retrieval.get_scores(tokens)\n",
    "        candidates = sorted([(qas[i], s) for i, s in enumerate(scores)], key=lambda x: x[1], reverse=True)[:10]\n",
    "\n",
    "        intent['candidates'] = [{ 'candidate': { \n",
    "            'question': row[0]['question_pt'], 'answer': row[0]['answer_pt']\n",
    "            }, \n",
    "            'score': row[1] \n",
    "        } for row in candidates if row[1] > 0]\n",
    "        result.append({\n",
    "            'question': intent['question'],\n",
    "            'answer': intent['answer'],\n",
    "            'candidate': intent['candidates']\n",
    "        })\n",
    "   \n",
    "json.dump(result, open('candidates.json', 'w'), separators=(',', ':'), sort_keys=True, indent=4)"
   ]
  },
  {
   "cell_type": "code",
   "execution_count": 60,
   "metadata": {},
   "outputs": [
    {
     "data": {
      "text/plain": [
       "{'question': 'Como devemos lavar a roupa de uma pessoa com coronavírus?',\n",
       " 'answer': 'As peças de roupa de pessoas com sintomas gripais deverão ser colocadas em um cesto exclusivo, que deve ser pego, idealmente com luvas, por outra pessoa e despejado na máquina de lavar. Após colocar as roupas na máquina, as mãos devem higienizadas com água e sabão ou álcool em gel. Proceder à lavagem normalmente, sem necessidade de água sanitária.',\n",
       " 'candidate': [{'candidate': {'question': 'Quem está em risco quando os profissionais de saúde deixam de lavar as mãos?',\n",
       "    'answer': 'profissional de saúde, mas também para suas famílias e comunidades em que vivem'},\n",
       "   'score': 6.3941287875650135},\n",
       "  {'candidate': {'question': 'Com o que lavar as mãos para proteger a própria saúde é consistente?',\n",
       "    'answer': 'os direitos à dignidade e a participação plena nas decisões relacionadas à assistência em crises humanitárias.'},\n",
       "   'score': 6.3941287875650135},\n",
       "  {'candidate': {'question': 'Qual é o melhor método para identificar pneumonia em uma pessoa?',\n",
       "    'answer': 'As alterações radiológicas do tórax têm sido consideradas o padrão-ouro na definição de um evento de pneumonia'},\n",
       "   'score': 6.123878002683721},\n",
       "  {'candidate': {'question': 'O que são coronavírus?',\n",
       "    'answer': 's são esféricos, envelopados e o maior RNA de cadeia positiva v'},\n",
       "   'score': 5.821867204751634},\n",
       "  {'candidate': {'question': 'O que são coronavírus?',\n",
       "    'answer': 'Os coronavírus (CoVs) são vírus de RNA de fita simples de envelope positivo, de sentido positivo, que pertencem à subfamília Coronavirinae, família Coronavirdiae, ordem Nidovirales.'},\n",
       "   'score': 5.821867204751634},\n",
       "  {'candidate': {'question': 'Como a pneumonia infantil afeta a saúde subsequente de uma pessoa?',\n",
       "    'answer': 'A pneumonia no início da vida pode prejudicar a saúde pulmonar a longo prazo, diminuindo a função pulmonar [6]. Pneumonia grave ou recorrente pode ter um efeito pior na função pulmonar; evidências crescentes sugerem que a doença pulmonar obstrutiva crônica pode estar relacionada à pneumonia na primeira infância'},\n",
       "   'score': 5.639494284534224},\n",
       "  {'candidate': {'question': 'O que é necessário para uma pessoa sobreviver a uma infecção grave por SARS-CoV?',\n",
       "    'answer': 'um hospedeiro bem-sucedido deve não apenas ser capaz de eliminar o patógeno, mas também tolerar os danos causados \\u200b\\u200bpelo próprio patógeno e também pela resposta imune do hospedeiro'},\n",
       "   'score': 5.639494284534224},\n",
       "  {'candidate': {'question': 'Qual é a duração entre quando a doença começa em uma pessoa e depois se espalha para outra?',\n",
       "    'answer': '13 a 14 dias'},\n",
       "   'score': 5.639494284534224},\n",
       "  {'candidate': {'question': 'Qual é a estrutura do coronavírus?',\n",
       "    'answer': 'vírus de RNA de fita positiva não segmentados e envelopados'},\n",
       "   'score': 5.148244045927464},\n",
       "  {'candidate': {'question': 'Entre quem são distribuídos os coronavírus?',\n",
       "    'answer': 'entre seres humanos, aves, gado, ratos, morcegos e outros animais selvagens'},\n",
       "   'score': 5.148244045927464}]}"
      ]
     },
     "execution_count": 60,
     "metadata": {},
     "output_type": "execute_result"
    }
   ],
   "source": [
    "result[20]"
   ]
  },
  {
   "cell_type": "code",
   "execution_count": null,
   "metadata": {},
   "outputs": [],
   "source": []
  }
 ],
 "metadata": {
  "kernelspec": {
   "display_name": "Python 3",
   "language": "python",
   "name": "python3"
  },
  "language_info": {
   "codemirror_mode": {
    "name": "ipython",
    "version": 3
   },
   "file_extension": ".py",
   "mimetype": "text/x-python",
   "name": "python",
   "nbconvert_exporter": "python",
   "pygments_lexer": "ipython3",
   "version": "3.7.7"
  }
 },
 "nbformat": 4,
 "nbformat_minor": 4
}
